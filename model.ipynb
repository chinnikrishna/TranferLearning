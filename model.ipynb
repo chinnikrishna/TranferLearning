{
 "cells": [
  {
   "cell_type": "code",
   "execution_count": null,
   "metadata": {
    "collapsed": false
   },
   "outputs": [],
   "source": [
    "#Imports\n",
    "import csv\n",
    "import cv2\n",
    "import numpy as np\n",
    "from sklearn.cross_validation import train_test_split\n",
    "import sklearn\n",
    "import random\n",
    "from keras.models import Sequential\n",
    "from keras.layers import Flatten,Dense,Lambda,Cropping2D,Dropout,Activation\n",
    "from keras.layers.convolutional import Convolution2D \n",
    "from keras.layers.pooling import MaxPooling2D\n",
    "from keras.initializations import glorot_normal\n",
    "import matplotlib.pyplot as plt\n",
    "%matplotlib inline"
   ]
  },
  {
   "cell_type": "code",
   "execution_count": null,
   "metadata": {
    "collapsed": false
   },
   "outputs": [],
   "source": [
    "#Center0,Left1,Right2,Angle3,Throttle4,Break5,Speed6 (Access from 0-6)\n",
    "lines=[]\n",
    "with open(\"../Data/driving_log.csv\") as csvfile:\n",
    "    reader=csv.reader(csvfile)\n",
    "    for line in reader:\n",
    "        lines.append(line)\n",
    "#Split into sets\n",
    "TrainSamples, ValidationSamples=train_test_split(lines,test_size=0.2)\n",
    "print(\"DataSet Ready\")"
   ]
  },
  {
   "cell_type": "code",
   "execution_count": null,
   "metadata": {
    "collapsed": false
   },
   "outputs": [],
   "source": [
    "print(len(TrainSamples))\n",
    "print(len(ValidationSamples))"
   ]
  },
  {
   "cell_type": "code",
   "execution_count": null,
   "metadata": {
    "collapsed": false
   },
   "outputs": [],
   "source": [
    "#Sample PreProcessing\n",
    "SamImage=cv2.imread(TrainSamples[0][0])\n",
    "SamImage=cv2.cvtColor(SamImage,cv2.COLOR_BGR2RGB)\n",
    "plt.figure(1)\n",
    "plt.title(\"Original Image\")\n",
    "plt.imshow(SamImage)\n",
    "print(SamImage.shape)\n",
    "SamImage=cv2.resize(SamImage,(160,80),cv2.INTER_CUBIC)\n",
    "plt.figure(2)\n",
    "plt.axes().set_aspect('equal')\n",
    "plt.imshow(SamImage)"
   ]
  },
  {
   "cell_type": "code",
   "execution_count": null,
   "metadata": {
    "collapsed": true
   },
   "outputs": [],
   "source": [
    "NewShape=[80,160]\n",
    "def PreProcess(Img):\n",
    "    Image=Img\n",
    "    Image=cv2.resize(Image,(NewShape[1],NewShape[0]),cv2.INTER_CUBIC)\n",
    "    return Image"
   ]
  },
  {
   "cell_type": "code",
   "execution_count": null,
   "metadata": {
    "collapsed": false
   },
   "outputs": [],
   "source": [
    "#Collect data from files\n",
    "SteerCorrection=0.25\n",
    "Multiplier=3\n",
    "#Generators\n",
    "def BatchGenerator(Data,BatchSize=1):\n",
    "    NumSamples=len(Data)\n",
    "    while 1:\n",
    "        random.shuffle(Data)                             #Shuffle Data so images come in random order\n",
    "        for offset in range(0,NumSamples,BatchSize):     #Increment offset by BatchSize\n",
    "            BatchSample=Data[offset:offset+BatchSize]    #Select batch size number of Data samples\n",
    "        TrainFeatures=np.zeros((len(BatchSample)*Multiplier,NewShape[0],NewShape[1],3))\n",
    "        TrainLabels=np.zeros(len(BatchSample)*Multiplier)\n",
    "        i=0\n",
    "        for Sample in BatchSample:\n",
    "            #Images\n",
    "            CenterImg=np.asarray(cv2.imread(Sample[0]))\n",
    "            LeftImg=np.asarray(cv2.imread(Sample[1].strip()))  \n",
    "            RightImg=np.asarray(cv2.imread(Sample[2].strip()))\n",
    "            #PreProcess Images\n",
    "            CenterImg=PreProcess(CenterImg)\n",
    "            LeftImg=PreProcess(LeftImg)\n",
    "            RightImg=PreProcess(RightImg)\n",
    "            #Steering Angles\n",
    "            CenterAngle=float(Sample[3])\n",
    "            LeftAngle=(CenterAngle+SteerCorrection)\n",
    "            RightAngle=(CenterAngle-SteerCorrection)\n",
    "            #Image and Angle Accumulation\n",
    "            TrainFeatures[i]=CenterImg\n",
    "            TrainLabels[i]=CenterAngle\n",
    "            i=i+1\n",
    "            TrainFeatures[i]=LeftImg\n",
    "            TrainLabels[i]=LeftAngle\n",
    "            i=i+1\n",
    "            TrainFeatures[i]=RightImg\n",
    "            TrainLabels[i]=RightAngle\n",
    "            yield sklearn.utils.shuffle(TrainFeatures,TrainLabels)"
   ]
  },
  {
   "cell_type": "code",
   "execution_count": null,
   "metadata": {
    "collapsed": false,
    "scrolled": false
   },
   "outputs": [],
   "source": [
    "#Converting into numpy Arrays\n",
    "GeneratedTrain=BatchGenerator(TrainSamples,50)\n",
    "GeneratedVal=BatchGenerator(ValidationSamples,50)\n"
   ]
  },
  {
   "cell_type": "code",
   "execution_count": null,
   "metadata": {
    "collapsed": false,
    "scrolled": false
   },
   "outputs": [],
   "source": [
    "#Network to drive the car\n",
    "FilShape=[5,5,5,3,3]\n",
    "NumFils=[24,36,48,64,64]\n",
    "FCSize=[582,100,50,10]\n",
    "model=Sequential()\n",
    "#PreProcessing\n",
    "model.add(Lambda(lambda x:x/255.0-0.5,input_shape=(NewShape[0],NewShape[1],3)))\n",
    "#Crop 70 pixels on top and 25 pixels on bottom\n",
    "model.add(Cropping2D(cropping=((30,12),(0,0))))\n",
    "#CL1\n",
    "model.add(Convolution2D(NumFils[0],FilShape[0],FilShape[0],activation='relu'\n",
    "                        ,init='glorot_normal'))\n",
    "#CL2\n",
    "model.add(Convolution2D(NumFils[1],FilShape[1],FilShape[1],activation='relu'\n",
    "                        ,init='glorot_normal'))\n",
    "#CL3\n",
    "model.add(Convolution2D(NumFils[2],FilShape[2],FilShape[2],activation='relu'\n",
    "                        ,init='glorot_normal'))\n",
    "#CL4\n",
    "model.add(Convolution2D(NumFils[3],FilShape[3],FilShape[3],activation='relu'\n",
    "                        ,init='glorot_normal'))\n",
    "#CL5\n",
    "model.add(Convolution2D(NumFils[4],FilShape[4],FilShape[4],activation='relu'\n",
    "                        ,init='glorot_normal'))\n",
    "#Flatten\n",
    "model.add(Flatten())\n",
    "#FC1\n",
    "model.add(Dense(FCSize[0],activation='relu',init='glorot_normal'))\n",
    "#model.add(Dropout(0.5))\n",
    "#FC2\n",
    "model.add(Dense(FCSize[1],activation='relu',init='glorot_normal'))\n",
    "#model.add(Dropout(0.5))\n",
    "#FC3\n",
    "model.add(Dense(FCSize[2],activation='relu',init='glorot_normal'))\n",
    "#model.add(Dropout(0.5))\n",
    "#FC4\n",
    "model.add(Dense(FCSize[3],activation='relu',init='glorot_normal'))\n",
    "model.add(Dense(1))\n"
   ]
  },
  {
   "cell_type": "code",
   "execution_count": null,
   "metadata": {
    "collapsed": false,
    "scrolled": false
   },
   "outputs": [],
   "source": [
    "#Model\n",
    "model.compile(loss='mse',optimizer='adam')\n",
    "model.fit_generator(GeneratedTrain,samples_per_epoch=len(TrainSamples),validation_data=GeneratedVal,\n",
    "                    nb_val_samples=len(ValidationSamples),nb_epoch=4)\n",
    "print(\"Saving Model...\")\n",
    "model.save(\"Model.h5\")\n",
    "print(\"Done...\")"
   ]
  },
  {
   "cell_type": "code",
   "execution_count": null,
   "metadata": {
    "collapsed": true
   },
   "outputs": [],
   "source": []
  }
 ],
 "metadata": {
  "anaconda-cloud": {},
  "kernelspec": {
   "display_name": "Python [default]",
   "language": "python",
   "name": "python3"
  },
  "language_info": {
   "codemirror_mode": {
    "name": "ipython",
    "version": 3
   },
   "file_extension": ".py",
   "mimetype": "text/x-python",
   "name": "python",
   "nbconvert_exporter": "python",
   "pygments_lexer": "ipython3",
   "version": "3.5.2"
  }
 },
 "nbformat": 4,
 "nbformat_minor": 1
}
